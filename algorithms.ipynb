{
 "cells": [
  {
   "cell_type": "markdown",
   "source": [
    "# Алгоритмы. Основные структуры данных"
   ],
   "metadata": {
    "collapsed": false
   }
  },
  {
   "cell_type": "markdown",
   "source": [
    "# 1. Что такое алгоритмы, зачем их изучать"
   ],
   "metadata": {
    "collapsed": false
   }
  },
  {
   "cell_type": "markdown",
   "source": [
    "# 2. Еще раз об О-нотации"
   ],
   "metadata": {
    "collapsed": false
   }
  },
  {
   "cell_type": "markdown",
   "source": [
    "# 3. Основные структуры данных в Python - list, dict, tuple, set"
   ],
   "metadata": {
    "collapsed": false
   }
  },
  {
   "cell_type": "markdown",
   "source": [
    "# 4. List"
   ],
   "metadata": {
    "collapsed": false
   }
  },
  {
   "cell_type": "markdown",
   "source": [
    "# 5. Dict"
   ],
   "metadata": {
    "collapsed": false
   }
  },
  {
   "cell_type": "markdown",
   "source": [
    "# 6. Set"
   ],
   "metadata": {
    "collapsed": false
   }
  },
  {
   "cell_type": "markdown",
   "source": [
    "# 7. Tuple"
   ],
   "metadata": {
    "collapsed": false
   }
  },
  {
   "cell_type": "markdown",
   "source": [
    "# 8. Очереди"
   ],
   "metadata": {
    "collapsed": false
   }
  },
  {
   "cell_type": "markdown",
   "source": [
    "# 9. Полезные ресурсы\n",
    "\n",
    "## 9.1 С чего начать\n",
    "\n",
    "* [Python 3.10 documentation. Data structures](https://docs.python.org/3/tutorial/datastructures.html#tuples-and-sequences)\n",
    "* [Common Python Data Structures](https://realpython.com/python-data-structures/#records-structs-and-data-transfer-objects)\n",
    "\n",
    "## 9.2 Что почитать\n",
    "\n",
    "* [Грокаем алгоритмы](https://www.piter.com/product_by_id/109460742?recommended_by=instant_search&r46_search_query=%D0%B3%D1%80%D0%BE%D0%BA%D0%B0%D0%B5%D0%BC)\n",
    "* [Род Стивенс. Алгоритмы](https://eksmo.ru/book/algoritmy-teoriya-i-prakticheskoe-primenenie-2-e-izdanie-ITD1210854/)\n",
    "* [Стивен Скиена. Алгоритмы](https://bhv.ru/product/algoritmy-rukovodstvo-po-razrabotke-2-e-izd/)\n",
    "\n",
    "## 9.3 Где попрактиковаться\n",
    "\n",
    "* [CodinGame](https://www.codingame.com/)\n",
    "* [HackerRank](https://www.hackerrank.com/)\n",
    "* [LeetCode](https://leetcode.com/)\n"
   ],
   "metadata": {
    "collapsed": false
   }
  }
 ],
 "metadata": {
  "kernelspec": {
   "display_name": "Python 3",
   "language": "python",
   "name": "python3"
  },
  "language_info": {
   "codemirror_mode": {
    "name": "ipython",
    "version": 2
   },
   "file_extension": ".py",
   "mimetype": "text/x-python",
   "name": "python",
   "nbconvert_exporter": "python",
   "pygments_lexer": "ipython2",
   "version": "2.7.6"
  }
 },
 "nbformat": 4,
 "nbformat_minor": 0
}