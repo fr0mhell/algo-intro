{
 "cells": [
  {
   "cell_type": "markdown",
   "metadata": {},
   "source": [
    "# Алгоритмы. Основные структуры данных\n",
    "\n",
    "![001](artifacts/001.jpeg)"
   ]
  },
  {
   "cell_type": "markdown",
   "metadata": {},
   "source": [
    "# 1. Что такое алгоритмы, зачем их изучать"
   ]
  },
  {
   "cell_type": "markdown",
   "metadata": {},
   "source": [
    "### Алгоритм представляет собой набор команд для выполнения какой-либо задачи.\n",
    "\n",
    "### Все данные, необходимые для решения задачи, организуются особым образом в структуры данных."
   ]
  },
  {
   "cell_type": "markdown",
   "metadata": {},
   "source": [
    "Для чего нужно изучать алгоритмы?\n",
    "\n",
    "1. Практика решения задач:\n",
    "    * Анализ условий\n",
    "    * Декомпозиция задачи на подзадачи\n",
    "    * Поиск решения\n",
    "    * Проверка решения\n",
    "2. Практика написания кода\n",
    "3. Прохождение собеседования"
   ]
  },
  {
   "cell_type": "markdown",
   "metadata": {},
   "source": [
    "# 2. Еще немного об О-нотации"
   ]
  },
  {
   "cell_type": "markdown",
   "metadata": {},
   "source": [
    "### Производительность алгоритма определяется функцией, которая указывает, насколько ухудшается работа алгоритма с усложнением поставленной задачи\n",
    "\n",
    "Производительность по памяти - Space Complexity - какое количество дополнительной памяти понадобится алгоритму для выполнения\n",
    "Производительность по времени - Time Complexity - какое количество операций потребуется для выполнения алгоритма"
   ]
  },
  {
   "cell_type": "markdown",
   "metadata": {},
   "source": [
    "![002](artifacts/002.png)"
   ]
  },
  {
   "cell_type": "markdown",
   "metadata": {},
   "source": [
    "## O(1) - Алгоритм всегда выполняется за фиксированное время, вне зависимости от размера данных"
   ]
  },
  {
   "cell_type": "code",
   "execution_count": null,
   "metadata": {},
   "outputs": [],
   "source": [
    "def find_deviding_point(values):\n",
    "    last_index = len(values) - 1\n",
    "    \n",
    "    number_1 = values[0]\n",
    "    number_2 = values[last_index]\n",
    "    number_3 = values[last_index // 2]\n",
    "    \n",
    "    if number_2 <= number_1 <= number_3:\n",
    "        return number_1\n",
    "    if number_1 <= number_2 <= number_3:\n",
    "        return number_2\n",
    "    return number_3"
   ]
  },
  {
   "cell_type": "code",
   "execution_count": null,
   "metadata": {},
   "outputs": [],
   "source": [
    "from random import shuffle\n",
    "\n",
    "# Неупорядоченный массив от 0 до 99\n",
    "values = [i for i in range(100)]\n",
    "shuffle(values)"
   ]
  },
  {
   "cell_type": "code",
   "execution_count": null,
   "metadata": {},
   "outputs": [],
   "source": [
    "find_deviding_point(values)"
   ]
  },
  {
   "cell_type": "markdown",
   "metadata": {},
   "source": [
    "# 3. Основные структуры данных в Python - list, dict, tuple, set"
   ]
  },
  {
   "cell_type": "markdown",
   "metadata": {},
   "source": [
    "## 3.1 List"
   ]
  },
  {
   "cell_type": "markdown",
   "metadata": {},
   "source": [
    "### List - структура данных, которая реазилует динамический массив. Это означает, что можно добавлять и удалять элементы, и List автоматически реализует управление памятью \"под капотом\".\n",
    "### List - типонезависимый, может содержать любые Python-типы. \n",
    "### List - изменяемый **(mutable)** тип данных!!!"
   ]
  },
  {
   "cell_type": "code",
   "execution_count": null,
   "metadata": {},
   "outputs": [],
   "source": [
    "class Point:\n",
    "    def __init__(self, x, y):\n",
    "        self.x, self.y = x, y\n",
    "    \n",
    "    def __repr__(self):\n",
    "        return f'({self.x}, {self.y})'\n",
    "\n",
    "my_list = [\n",
    "    1,\n",
    "    0.1,\n",
    "    False,\n",
    "    None,\n",
    "    'string',\n",
    "    [1, 2, 3],\n",
    "    (1, 2, 3),\n",
    "    {1, 2, 3},\n",
    "    {1: 'a', 'b': 2},\n",
    "    find_deviding_point,\n",
    "    Point(5, 3),\n",
    "]\n",
    "\n",
    "[type(v) for v in my_list]"
   ]
  },
  {
   "cell_type": "markdown",
   "metadata": {},
   "source": [
    "## 3.2 Tuple"
   ]
  },
  {
   "cell_type": "markdown",
   "metadata": {},
   "source": [
    "### Tuple - неизменяемая (immutable) структура данных!!! Это означает, что можно добавлять элементы можно только на этапе создания структуры.\n",
    "### Tuple - типонезависимый, может содержать любые Python-типы."
   ]
  },
  {
   "cell_type": "code",
   "execution_count": null,
   "metadata": {
    "pycharm": {
     "name": "#%%\n"
    }
   },
   "outputs": [],
   "source": [
    "tuple_1 = (\n",
    "    1,\n",
    "    0.1,\n",
    "    False,\n",
    "    None,\n",
    "    'string',\n",
    "    [1, 2, 3],\n",
    "    (1, 2, 3),\n",
    "    {1, 2, 3},\n",
    "    {1: 'a', 'b': 2},\n",
    "    find_deviding_point,\n",
    "    Point(5, 3),\n",
    ")\n",
    "tuple_1"
   ]
  },
  {
   "cell_type": "code",
   "execution_count": null,
   "metadata": {
    "pycharm": {
     "name": "#%%\n"
    }
   },
   "outputs": [],
   "source": [
    "tuple_1[0]"
   ]
  },
  {
   "cell_type": "code",
   "execution_count": null,
   "metadata": {
    "pycharm": {
     "name": "#%%\n"
    }
   },
   "outputs": [],
   "source": [
    "tuple_1[0] = 10"
   ]
  },
  {
   "cell_type": "code",
   "execution_count": null,
   "metadata": {
    "pycharm": {
     "name": "#%%\n"
    }
   },
   "outputs": [],
   "source": [
    "del tuple_1[0]"
   ]
  },
  {
   "cell_type": "markdown",
   "metadata": {},
   "source": [
    "## 3.3 Dict"
   ]
  },
  {
   "cell_type": "markdown",
   "metadata": {},
   "source": [
    "### Dict - структура данных, в которой доступ к значениям осуществляется по уникальному ключу\n",
    "### Уникальность ключа достигается с помощью хэш-функции\n",
    "### Вставка, поиск и удаление по ключу происходит за О(1)\n",
    "### Ключ должен быть хэшируемым!\n",
    "### Dict - изменяемый (mutable) тип данных!!!"
   ]
  },
  {
   "cell_type": "markdown",
   "metadata": {
    "pycharm": {
     "name": "#%% md\n"
    }
   },
   "source": [
    "### Как работает dict\n",
    "```\n",
    "our_dict = dict(a=1)\n",
    "```\n",
    "\n",
    "1. При создании dict в памяти создается массив размером 8, резервируется 8 пустых ячеек. А также создается пустая таблица\n",
    "```\n",
    "[null, null, null, null, null, null, null, null]\n",
    "```\n",
    "\n",
    "hash | key | value\n",
    "---- | ---- | ----\n",
    "... | ... | ...\n",
    "\n",
    "2. При вставке значения вычисляется hash от ключа\n",
    "```\n",
    "hash('a') -> C1E001\n",
    "```\n",
    "3. Вычисляется остаток от деления на 8. Полученное значение - индекс массива из п.1.\n",
    "```\n",
    "C1E001 % 8 -> 1\n",
    "```\n",
    "4. В массив из п.1 по полученному индексу записываем 0. Это обозначает номер строки в хэш-таблице\n",
    "```\n",
    "[null, 0, null, null, null, null, null, null]\n",
    "```\n",
    "\n",
    "hash | key | value\n",
    "---- | ---- | ----\n",
    "C1E001 | FFEB678C | 633241c4\n",
    "... | ... | ..."
   ]
  },
  {
   "cell_type": "code",
   "execution_count": null,
   "metadata": {
    "pycharm": {
     "name": "#%%\n"
    }
   },
   "outputs": [],
   "source": [
    "p = Point(5, 5)\n",
    "\n",
    "my_dict = {\n",
    "    1: 1,\n",
    "    2.0: 1.0,\n",
    "    False: True,\n",
    "    'string': 'string',\n",
    "    None: 'None',\n",
    "    p: Point(7, 8), \n",
    "}\n",
    "\n",
    "print(my_dict)"
   ]
  },
  {
   "cell_type": "code",
   "execution_count": null,
   "metadata": {},
   "outputs": [],
   "source": [
    "hash(1)"
   ]
  },
  {
   "cell_type": "code",
   "execution_count": null,
   "metadata": {},
   "outputs": [],
   "source": [
    "hash(2.0)"
   ]
  },
  {
   "cell_type": "code",
   "execution_count": null,
   "metadata": {},
   "outputs": [],
   "source": [
    "hash(False)"
   ]
  },
  {
   "cell_type": "code",
   "execution_count": null,
   "metadata": {},
   "outputs": [],
   "source": [
    "hash('string')"
   ]
  },
  {
   "cell_type": "code",
   "execution_count": null,
   "metadata": {
    "scrolled": true
   },
   "outputs": [],
   "source": [
    "hash(None)"
   ]
  },
  {
   "cell_type": "code",
   "execution_count": null,
   "metadata": {},
   "outputs": [],
   "source": [
    "hash(p)"
   ]
  },
  {
   "cell_type": "code",
   "execution_count": null,
   "metadata": {},
   "outputs": [],
   "source": [
    "my_dict[p]"
   ]
  },
  {
   "cell_type": "markdown",
   "metadata": {},
   "source": [
    "### Tuple тоже может быть ключом"
   ]
  },
  {
   "cell_type": "code",
   "execution_count": null,
   "metadata": {},
   "outputs": [],
   "source": [
    "{\n",
    "    (1, 2.0, False, None, Point(5, 6)): [1, 2, 3, '4', '567']\n",
    "}"
   ]
  },
  {
   "cell_type": "code",
   "execution_count": null,
   "metadata": {},
   "outputs": [],
   "source": [
    "hash((1, 2.0, False, None, Point(5, 6)))"
   ]
  },
  {
   "cell_type": "markdown",
   "metadata": {},
   "source": [
    "### List и Set НЕ может быть ключом"
   ]
  },
  {
   "cell_type": "code",
   "execution_count": null,
   "metadata": {
    "scrolled": true
   },
   "outputs": [],
   "source": [
    "{\n",
    "    [1, 2, 3]: [11, 22, 33]\n",
    "}"
   ]
  },
  {
   "cell_type": "code",
   "execution_count": null,
   "metadata": {},
   "outputs": [],
   "source": [
    "{\n",
    "    {1, 2, 3}: [11, 22, 33]\n",
    "}"
   ]
  },
  {
   "cell_type": "markdown",
   "metadata": {},
   "source": [
    "## 3.4 Set"
   ]
  },
  {
   "cell_type": "markdown",
   "metadata": {
    "pycharm": {
     "name": "#%% md\n"
    }
   },
   "source": [
    "### Set - структура данных, которая не позволяет дублировать элементы.\n",
    "### Set используют для быстрой проверки на вхождение во множество значений, для вставки и удаления значений, а также для поиска объединения и пересечения двух множеств.\n",
    "### Set использует hash-функции аналогично с Dict, но вместо пары ключ-значение хранит только значение\n",
    "### Set - изменяемый (mutable) тип данных!!!"
   ]
  },
  {
   "cell_type": "code",
   "execution_count": null,
   "metadata": {},
   "outputs": [],
   "source": [
    "set([1, 2, 2, 3, 4])"
   ]
  },
  {
   "cell_type": "code",
   "execution_count": null,
   "metadata": {},
   "outputs": [],
   "source": [
    "set_1 = {i for i in range(1, 11)}  # 1-10\n",
    "set_2 = {i for i in range(5, 16)}  # 5-15"
   ]
  },
  {
   "cell_type": "code",
   "execution_count": null,
   "metadata": {},
   "outputs": [],
   "source": [
    "set_1 | set_2"
   ]
  },
  {
   "cell_type": "code",
   "execution_count": null,
   "metadata": {},
   "outputs": [],
   "source": [
    "set_1.intersection(set_2)"
   ]
  },
  {
   "cell_type": "code",
   "execution_count": null,
   "metadata": {},
   "outputs": [],
   "source": [
    "set_1 ^ set_2"
   ]
  },
  {
   "cell_type": "markdown",
   "metadata": {},
   "source": [
    "# 4. Очереди"
   ]
  },
  {
   "cell_type": "markdown",
   "metadata": {},
   "source": [
    "## 4.1 FIFO"
   ]
  },
  {
   "cell_type": "markdown",
   "metadata": {},
   "source": [
    "![003](artifacts/003.png)"
   ]
  },
  {
   "cell_type": "markdown",
   "metadata": {},
   "source": [
    "### FIFO-очередь реализует алгоритм First-In/First-Out (FIFO) - первый вошел / первый вышел"
   ]
  },
  {
   "cell_type": "code",
   "execution_count": null,
   "metadata": {},
   "outputs": [],
   "source": [
    "class FIFO:\n",
    "    def __init__(self):\n",
    "        self._container = []\n",
    "    \n",
    "    def enque(self, value):\n",
    "        self._container.append(value)\n",
    "    \n",
    "    @property\n",
    "    def head(self):\n",
    "        return self._container[-1]\n",
    "    \n",
    "    def deque(self):\n",
    "        return self._container.pop(0)\n",
    "    \n",
    "    @property\n",
    "    def tail(self):\n",
    "        return self._container[0]"
   ]
  },
  {
   "cell_type": "code",
   "execution_count": null,
   "metadata": {},
   "outputs": [],
   "source": [
    "fifo = FIFO()"
   ]
  },
  {
   "cell_type": "code",
   "execution_count": null,
   "metadata": {},
   "outputs": [],
   "source": [
    "fifo.enque(1)"
   ]
  },
  {
   "cell_type": "code",
   "execution_count": null,
   "metadata": {},
   "outputs": [],
   "source": [
    "fifo.head"
   ]
  },
  {
   "cell_type": "code",
   "execution_count": null,
   "metadata": {},
   "outputs": [],
   "source": [
    "fifo.tail"
   ]
  },
  {
   "cell_type": "code",
   "execution_count": null,
   "metadata": {},
   "outputs": [],
   "source": [
    "fifo.enque(2)"
   ]
  },
  {
   "cell_type": "code",
   "execution_count": null,
   "metadata": {},
   "outputs": [],
   "source": [
    "fifo.head"
   ]
  },
  {
   "cell_type": "code",
   "execution_count": null,
   "metadata": {},
   "outputs": [],
   "source": [
    "fifo.tail"
   ]
  },
  {
   "cell_type": "code",
   "execution_count": null,
   "metadata": {},
   "outputs": [],
   "source": [
    "fifo.deque()"
   ]
  },
  {
   "cell_type": "code",
   "execution_count": null,
   "metadata": {},
   "outputs": [],
   "source": [
    "fifo.deque()"
   ]
  },
  {
   "cell_type": "code",
   "execution_count": null,
   "metadata": {},
   "outputs": [],
   "source": [
    "fifo.deque()"
   ]
  },
  {
   "cell_type": "markdown",
   "metadata": {},
   "source": [
    "## 4.2 LIFO. Он же ~~Гора, он же Жора, он же~~ стэк"
   ]
  },
  {
   "cell_type": "markdown",
   "metadata": {},
   "source": [
    "![004](artifacts/004.png)"
   ]
  },
  {
   "cell_type": "markdown",
   "metadata": {},
   "source": [
    "### Стэк реализует алгоритм last-In/First-Out (LIFO) - последний вошел / первый вышел"
   ]
  },
  {
   "cell_type": "code",
   "execution_count": null,
   "metadata": {},
   "outputs": [],
   "source": [
    "class Stack:\n",
    "    def __init__(self):\n",
    "        self._container = []\n",
    "    \n",
    "    def push(self, value):\n",
    "        self._container.append(value)\n",
    "    \n",
    "    @property\n",
    "    def head(self):\n",
    "        return self._container[-1]\n",
    "    \n",
    "    def pop(self):\n",
    "        return self._container.pop()\n",
    "    \n",
    "    @property\n",
    "    def tail(self):\n",
    "        return self._container[0]"
   ]
  },
  {
   "cell_type": "code",
   "execution_count": null,
   "metadata": {},
   "outputs": [],
   "source": [
    "stack = Stack()"
   ]
  },
  {
   "cell_type": "code",
   "execution_count": null,
   "metadata": {},
   "outputs": [],
   "source": [
    "stack.push(1)"
   ]
  },
  {
   "cell_type": "code",
   "execution_count": null,
   "metadata": {},
   "outputs": [],
   "source": [
    "stack.head"
   ]
  },
  {
   "cell_type": "code",
   "execution_count": null,
   "metadata": {},
   "outputs": [],
   "source": [
    "stack.tail"
   ]
  },
  {
   "cell_type": "code",
   "execution_count": null,
   "metadata": {},
   "outputs": [],
   "source": [
    "stack.push(2)"
   ]
  },
  {
   "cell_type": "code",
   "execution_count": null,
   "metadata": {},
   "outputs": [],
   "source": [
    "stack.head"
   ]
  },
  {
   "cell_type": "code",
   "execution_count": null,
   "metadata": {},
   "outputs": [],
   "source": [
    "stack.tail"
   ]
  },
  {
   "cell_type": "code",
   "execution_count": null,
   "metadata": {},
   "outputs": [],
   "source": [
    "stack.pop()"
   ]
  },
  {
   "cell_type": "code",
   "execution_count": null,
   "metadata": {},
   "outputs": [],
   "source": [
    "stack.pop()"
   ]
  },
  {
   "cell_type": "code",
   "execution_count": null,
   "metadata": {
    "scrolled": true
   },
   "outputs": [],
   "source": [
    "stack.pop()"
   ]
  },
  {
   "cell_type": "markdown",
   "metadata": {},
   "source": [
    "# 5. [collections](https://docs.python.org/3/library/collections.html)"
   ]
  },
  {
   "cell_type": "markdown",
   "metadata": {},
   "source": [
    "![005](artifacts/005.png)"
   ]
  },
  {
   "cell_type": "markdown",
   "metadata": {},
   "source": [
    "# 6. Полезные ресурсы\n",
    "\n",
    "## 6.1 С чего начать\n",
    "\n",
    "* [Python 3.10 documentation. Data structures](https://docs.python.org/3/tutorial/datastructures.html#tuples-and-sequences)\n",
    "* [Common Python Data Structures](https://realpython.com/python-data-structures/)\n",
    "* [collections](https://docs.python.org/3/library/collections.html)\n",
    "* [Time Complexity](https://wiki.python.org/moin/TimeComplexity)\n",
    "\n",
    "## 6.2 Что почитать\n",
    "\n",
    "* [Грокаем алгоритмы](https://www.piter.com/product_by_id/109460742?recommended_by=instant_search&r46_search_query=%D0%B3%D1%80%D0%BE%D0%BA%D0%B0%D0%B5%D0%BC)\n",
    "* [Род Стивенс. Алгоритмы](https://eksmo.ru/book/algoritmy-teoriya-i-prakticheskoe-primenenie-2-e-izdanie-ITD1210854/)\n",
    "* [Стивен Скиена. Алгоритмы](https://bhv.ru/product/algoritmy-rukovodstvo-po-razrabotke-2-e-izd/)\n",
    "\n",
    "## 6.3 Где попрактиковаться\n",
    "\n",
    "* [CodinGame](https://www.codingame.com/)\n",
    "* [HackerRank](https://www.hackerrank.com/)\n",
    "* [LeetCode](https://leetcode.com/)\n"
   ]
  }
 ],
 "metadata": {
  "kernelspec": {
   "display_name": "Python 3 (ipykernel)",
   "language": "python",
   "name": "python3"
  },
  "language_info": {
   "codemirror_mode": {
    "name": "ipython",
    "version": 3
   },
   "file_extension": ".py",
   "mimetype": "text/x-python",
   "name": "python",
   "nbconvert_exporter": "python",
   "pygments_lexer": "ipython3",
   "version": "3.9.8"
  }
 },
 "nbformat": 4,
 "nbformat_minor": 1
}
